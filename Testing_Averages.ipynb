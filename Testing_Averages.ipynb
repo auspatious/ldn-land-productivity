{
 "cells": [
  {
   "cell_type": "code",
   "execution_count": 1,
   "metadata": {},
   "outputs": [],
   "source": [
    "from pystac_client import Client\n",
    "from odc.stac import load, configure_s3_access\n",
    "from odc.geo import Geometry\n",
    "from dask.distributed import Client as DaskClient\n",
    "\n",
    "import numpy as np\n",
    "import geopandas as gpd\n",
    "import folium\n",
    "import xarray as xr\n",
    "\n",
    "from utils import WGS84GRID30, USGSCATALOG, USGSLANDSAT, http_to_s3_url"
   ]
  },
  {
   "cell_type": "code",
   "execution_count": 2,
   "metadata": {},
   "outputs": [],
   "source": [
    "# Configure S3 access, which requires AWS credentials for loading USGS Landsat data\n",
    "configure_s3_access(cloud_defaults=True, requester_pays=True)\n",
    "\n",
    "client = Client.open(USGSCATALOG)"
   ]
  },
  {
   "cell_type": "code",
   "execution_count": null,
   "metadata": {},
   "outputs": [],
   "source": [
    "# Load our extents\n",
    "gdf = gpd.read_file(\"aois.geojson\")\n",
    "\n",
    "# 0 is Fiji, 1 is Caribbean and 2 is Belize\n",
    "geom = Geometry(gdf.geometry[0], crs=\"epsg:4326\")\n",
    "\n",
    "# This is all the tiles\n",
    "tiles = WGS84GRID30.tiles_from_geopolygon(geom)\n",
    "\n",
    "# This is northern Viti Levu in Fiji\n",
    "tile = WGS84GRID30.tile_geobox((118, -12))\n",
    "tile"
   ]
  },
  {
   "cell_type": "code",
   "execution_count": null,
   "metadata": {},
   "outputs": [],
   "source": [
    "items = client.search(\n",
    "    collections=[USGSLANDSAT],\n",
    "    intersects=tile.geographic_extent,\n",
    "    datetime=\"2024\",\n",
    "    query={\"landsat:collection_category\": {\"in\": [\"T1\"]}},\n",
    ").item_collection()\n",
    "\n",
    "print(f\"Found {len(items)} items\")\n"
   ]
  },
  {
   "cell_type": "code",
   "execution_count": null,
   "metadata": {},
   "outputs": [],
   "source": [
    "data = load(\n",
    "    items,\n",
    "    geobox=tile,\n",
    "    measurements=[\"red\", \"green\", \"blue\", \"nir08\", \"qa_pixel\"],\n",
    "    chunks={\"x\": 2048, \"y\": 2048},\n",
    "    groupby=\"solar_day\",\n",
    "    dtype=\"uint16\",\n",
    "    nodata=0,\n",
    "    resampling={\"qa_pixel\": \"nearest\"},\n",
    "    patch_url=http_to_s3_url,\n",
    ")\n",
    "\n",
    "data = data.rename_vars({\"nir08\": \"nir\"})\n",
    "\n",
    "data"
   ]
  },
  {
   "cell_type": "code",
   "execution_count": null,
   "metadata": {},
   "outputs": [],
   "source": [
    "# Create cloud mask, scale values to 0-1 and set nodata to NaN\n",
    "\n",
    "# Bits 3 and 4 are cloud shadow and cloud, respectively. Bit 0 is nodata\n",
    "bitflags = 0b00011000\n",
    "\n",
    "# Bitwise AND to select any pixel that is cloud shadow or cloud or nodata\n",
    "cloud_mask = (data.qa_pixel & bitflags) != 0\n",
    "# Note that it might be a good idea to dilate the mask here to catch any pixels that are adjacent to clouds\n",
    "\n",
    "nodata_mask = data.qa_pixel == 0\n",
    "\n",
    "# Combined the masks\n",
    "mask = cloud_mask | nodata_mask\n",
    "\n",
    "# Mask the original data\n",
    "masked = data.where(~mask, other=np.nan).drop_vars(\"qa_pixel\")\n",
    "\n",
    "# Scale the data to 0-1\n",
    "scaled = (masked.where(masked != 0) * 0.0000275 + -0.2).clip(0, 1)\n",
    "\n",
    "scaled"
   ]
  },
  {
   "cell_type": "code",
   "execution_count": null,
   "metadata": {},
   "outputs": [],
   "source": [
    "time = 0\n",
    "data.isel(time=time).odc.explore(vmin=7000, vmax=8000)"
   ]
  },
  {
   "cell_type": "code",
   "execution_count": null,
   "metadata": {},
   "outputs": [],
   "source": [
    "scaled.isel(time=time).odc.explore(vmin=0, vmax=0.2)"
   ]
  },
  {
   "cell_type": "code",
   "execution_count": null,
   "metadata": {},
   "outputs": [],
   "source": [
    "# Create the indices\n",
    "\n",
    "# NDVI\n",
    "scaled[\"ndvi\"] = (scaled[\"nir\"] - scaled[\"red\"]) / (scaled[\"nir\"] + scaled[\"red\"])\n",
    "\n",
    "# MSAVI\n",
    "scaled[\"msavi\"] = 0.5 * (\n",
    "    (2 * scaled[\"nir\"] + 1) - np.sqrt((2 * scaled[\"nir\"] + 1) ** 2 - 8 * (scaled[\"nir\"] - scaled[\"red\"]))\n",
    ")\n",
    "\n",
    "# EVI2\n",
    "scaled[\"evi2\"] = 2.5 * (scaled[\"nir\"] - scaled[\"red\"]) / (scaled[\"nir\"] + 2.4 * scaled[\"red\"] + 1)\n",
    "\n",
    "scaled"
   ]
  },
  {
   "cell_type": "code",
   "execution_count": 66,
   "metadata": {},
   "outputs": [],
   "source": [
    "# Create a temporal maximum, mean and median for the three indices\n",
    "results = []\n",
    "\n",
    "for index in [\"ndvi\", \"msavi\", \"evi2\"]:\n",
    "    maximum = scaled[index].max(\"time\")\n",
    "    mean = scaled[index].mean(\"time\")\n",
    "    median = scaled[index].median(\"time\")\n",
    "\n",
    "    # Rename the variables\n",
    "    maximum = maximum.rename(f\"{index}_max\")\n",
    "    mean = mean.rename(f\"{index}_mean\")\n",
    "    median = median.rename(f\"{index}_median\")\n",
    "\n",
    "    results.extend([maximum, mean, median])\n",
    "\n",
    "# Combine the results into a single dataset\n",
    "indices = xr.merge(results)"
   ]
  },
  {
   "cell_type": "code",
   "execution_count": null,
   "metadata": {},
   "outputs": [],
   "source": [
    "# Set up a dask local cluster and compute\n",
    "with DaskClient(n_workers=1, threads_per_worker=16) as client:\n",
    "    averages = indices.compute()\n",
    "\n",
    "averages"
   ]
  },
  {
   "cell_type": "code",
   "execution_count": null,
   "metadata": {},
   "outputs": [],
   "source": [
    "maximum.ndvi.plot.imshow(cmap=\"RdYlGn\")"
   ]
  },
  {
   "cell_type": "code",
   "execution_count": null,
   "metadata": {},
   "outputs": [],
   "source": [
    "center = tile.geographic_extent.centroid.coords[0][::-1]\n",
    "\n",
    "m = folium.Map(location=center, zoom_start=8)\n",
    "\n",
    "for index in [\"ndvi\", \"msavi\", \"evi2\"]:\n",
    "    opts = {\n",
    "        \"vmin\": -1,\n",
    "        \"vmax\": 1,\n",
    "    }\n",
    "    if index == \"ndvi\":\n",
    "        opts[\"cmap\"] = \"RdYlGn\"\n",
    "    else:\n",
    "        opts[\"cmap\"] = \"viridis\"\n",
    "\n",
    "    averages[f\"{index}_max\"].odc.add_to(m, name=f\"{index.upper()} Max\", **opts)\n",
    "    averages[f\"{index}_mean\"].odc.add_to(m, name=f\"{index.upper()} Mean\", **opts)\n",
    "    averages[f\"{index}_median\"].odc.add_to(m, name=f\"{index.upper()} Median\", **opts)\n",
    "\n",
    "folium.LayerControl().add_to(m)\n",
    "\n",
    "m.save(\"indices.html\")\n",
    "\n",
    "m"
   ]
  },
  {
   "cell_type": "code",
   "execution_count": null,
   "metadata": {},
   "outputs": [],
   "source": [
    "tile.geographic_extent.centroid.coords"
   ]
  }
 ],
 "metadata": {
  "kernelspec": {
   "display_name": "Python 3",
   "language": "python",
   "name": "python3"
  },
  "language_info": {
   "codemirror_mode": {
    "name": "ipython",
    "version": 3
   },
   "file_extension": ".py",
   "mimetype": "text/x-python",
   "name": "python",
   "nbconvert_exporter": "python",
   "pygments_lexer": "ipython3",
   "version": "3.10.12"
  }
 },
 "nbformat": 4,
 "nbformat_minor": 2
}

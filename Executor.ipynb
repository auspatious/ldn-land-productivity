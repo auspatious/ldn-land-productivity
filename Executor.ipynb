{
 "cells": [
  {
   "cell_type": "code",
   "execution_count": null,
   "metadata": {},
   "outputs": [],
   "source": [
    "from processor import LDNPRocessor\n",
    "\n",
    "fiji_tiles = [\n",
    "    (118, -12),\n",
    "    (119, -12),\n",
    "    (118, -13),\n",
    "    (119, -13),\n",
    "]\n",
    "\n",
    "for tile in fiji_tiles:\n",
    "    proc = LDNPRocessor(\n",
    "        tile=tile,\n",
    "        year=2023,\n",
    "        bucket=\"data.ldn.auspatious.com\",\n",
    "        bucket_path=\"test\",\n",
    "        dask_config={\n",
    "            \"n_workers\": 2,\n",
    "            \"threads_per_worker\": 32,\n",
    "            \"memory_limit\": \"120GB\",\n",
    "        },\n",
    "        dask_chunks={\n",
    "            \"longitude\": 1250,\n",
    "            \"latitude\": 1250,\n",
    "            \"time\": -1\n",
    "        },\n",
    "        overwrite=False,\n",
    "        version=\"0.0.1\"\n",
    "    )\n",
    "\n",
    "    proc.run()"
   ]
  }
 ],
 "metadata": {
  "kernelspec": {
   "display_name": "Python 3",
   "language": "python",
   "name": "python3"
  },
  "language_info": {
   "codemirror_mode": {
    "name": "ipython",
    "version": 3
   },
   "file_extension": ".py",
   "mimetype": "text/x-python",
   "name": "python",
   "nbconvert_exporter": "python",
   "pygments_lexer": "ipython3",
   "version": "3.9.6"
  }
 },
 "nbformat": 4,
 "nbformat_minor": 2
}

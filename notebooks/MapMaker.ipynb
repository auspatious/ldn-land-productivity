{
 "cells": [
  {
   "cell_type": "code",
   "execution_count": null,
   "metadata": {},
   "outputs": [],
   "source": [
    "import ipyleaflet\n",
    "import folium\n",
    "\n",
    "center = (13.25920, -61.13635)\n",
    "zoom = 10\n",
    "basemap = ipyleaflet.basemaps.Esri.WorldImagery\n",
    "\n",
    "m = folium.Map(location=center, zoom_start=zoom, tiles=basemap)\n",
    "\n",
    "for var in [\"ndvi\", \"msavi\", \"evi2\", ]:\n",
    "    layer = folium.TileLayer(\n",
    "        tiles=f\"https://www.fused.io/server/v1/realtime-shared/fsh_4aTtp0930fsOk2GyccHMBO/run/tiles/{{z}}/{{x}}/{{y}}?variable={var}&year=2023\",\n",
    "        attr=\"Fused\",\n",
    "        name=var,\n",
    "        overlay=True,\n",
    "        control=True,\n",
    "        show=False\n",
    "    ).add_to(m)\n",
    "\n",
    "    if var == \"evi2\":\n",
    "        layer.show = True\n",
    "\n",
    "# Layer control\n",
    "folium.LayerControl().add_to(m)\n",
    "\n",
    "m.save(\"auto_map.html\", title=\"Fused Map 2023\")\n",
    "m"
   ]
  }
 ],
 "metadata": {
  "kernelspec": {
   "display_name": "Python 3",
   "language": "python",
   "name": "python3"
  },
  "language_info": {
   "codemirror_mode": {
    "name": "ipython",
    "version": 3
   },
   "file_extension": ".py",
   "mimetype": "text/x-python",
   "name": "python",
   "nbconvert_exporter": "python",
   "pygments_lexer": "ipython3",
   "version": "3.11.10"
  }
 },
 "nbformat": 4,
 "nbformat_minor": 2
}

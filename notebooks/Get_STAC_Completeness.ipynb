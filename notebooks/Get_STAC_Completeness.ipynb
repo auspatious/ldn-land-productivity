{
 "cells": [
  {
   "cell_type": "code",
   "execution_count": 1,
   "metadata": {},
   "outputs": [],
   "source": [
    "import s3fs\n",
    "from pystac_client import Client\n",
    "from odc.stac import load\n",
    "\n",
    "from ldn.utils import get_tiles\n",
    "from ldn.processor import LDNProcessor\n"
   ]
  },
  {
   "cell_type": "code",
   "execution_count": null,
   "metadata": {},
   "outputs": [],
   "source": [
    "path = \"s3://data.ldn.auspatious.com/geo_ls_lp/**/*.stac-item.json\"\n",
    "\n",
    "fs = s3fs.S3FileSystem(anon=True)\n",
    "stac_keys = fs.glob(path)\n",
    "\n",
    "print(f\"Found {len(stac_keys)} out of {30*(2025-2000)} STAC keys like this: {stac_keys[0]}\")"
   ]
  },
  {
   "cell_type": "code",
   "execution_count": null,
   "metadata": {},
   "outputs": [],
   "source": [
    "import s3fs\n",
    "\n",
    "version = \"0.1.0\"\n",
    "\n",
    "path = f\"s3://data.ldn.auspatious.com/geo_ls_lp{version.replace(\".\", \"_\")}/**/*.stac-item.json\"\n",
    "\n",
    "fs = s3fs.S3FileSystem(anon=True)\n",
    "stac_keys = fs.glob(path)\n",
    "\n",
    "print(f\"Found {len(stac_keys)} out of {30*(2024-2000)} STAC keys like this: {stac_keys[0]}\")\n",
    "\n",
    "incomplete_tiles = []\n",
    "tiles = get_tiles()\n",
    "\n",
    "for year in range(2000, 2024):\n",
    "    for tile, geobox in tiles:\n",
    "        processor = LDNProcessor(\n",
    "            tile,\n",
    "            year=year,\n",
    "            bucket=\"data.ldn.auspatious.com\",\n",
    "            configure_s3=False,\n",
    "            version=\"0.1.0\"\n",
    "        )\n",
    "        key = f\"{processor.bucket}/{processor.stac_key}\"\n",
    "        if not key in stac_keys:\n",
    "            incomplete_tiles.append(tile)\n",
    "            print(f\"Tile {tile} from {year} is not complete yet\")"
   ]
  }
 ],
 "metadata": {
  "kernelspec": {
   "display_name": "Python 3",
   "language": "python",
   "name": "python3"
  },
  "language_info": {
   "codemirror_mode": {
    "name": "ipython",
    "version": 3
   },
   "file_extension": ".py",
   "mimetype": "text/x-python",
   "name": "python",
   "nbconvert_exporter": "python",
   "pygments_lexer": "ipython3",
   "version": "3.11.9"
  }
 },
 "nbformat": 4,
 "nbformat_minor": 2
}

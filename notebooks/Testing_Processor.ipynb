{
 "cells": [
  {
   "cell_type": "code",
   "execution_count": 2,
   "metadata": {},
   "outputs": [],
   "source": [
    "from ldn.processor import LDNProcessor"
   ]
  },
  {
   "cell_type": "code",
   "execution_count": 3,
   "metadata": {},
   "outputs": [],
   "source": [
    "# Reload files in the notebook\n",
    "%load_ext autoreload\n",
    "%autoreload 2"
   ]
  },
  {
   "cell_type": "code",
   "execution_count": null,
   "metadata": {},
   "outputs": [],
   "source": [
    "# Run one, for testing\n",
    "\n",
    "# tile = (238, 47)  # Fiji, over Suva\n",
    "# tile = (79, 69)   # Martinique and St Lucia\n",
    "# tile = (60, 71)   # Belmopan in Belize\n",
    "# tile = (239, 48)  # Southern Vanua Levu, Fiji\n",
    "tile = (240, 47)  # Islands east of Viti Levu, Fiji\n",
    "\n",
    "proc = LDNProcessor(\n",
    "    tile=tile,\n",
    "    year=2023,\n",
    "    bucket=\"data.ldn.auspatious.com\",\n",
    "    bucket_path=\"test\",\n",
    "    dask_config={\n",
    "        \"n_workers\": 4,\n",
    "        \"threads_per_worker\": 24,\n",
    "        \"memory_limit\": \"80GB\",\n",
    "    },\n",
    "    dask_chunks={\n",
    "        \"longitude\": 1250,\n",
    "        \"latitude\": 1250,\n",
    "        \"time\": -1\n",
    "    },\n",
    "    overwrite=True,\n",
    "    version=\"0.0.1\"\n",
    ")\n",
    "\n",
    "proc.geobox.geographic_extent.explore()"
   ]
  },
  {
   "cell_type": "code",
   "execution_count": null,
   "metadata": {},
   "outputs": [],
   "source": [
    "proc.find()"
   ]
  },
  {
   "cell_type": "code",
   "execution_count": null,
   "metadata": {},
   "outputs": [],
   "source": [
    "proc.load(decimated=True)\n",
    "proc.data"
   ]
  },
  {
   "cell_type": "code",
   "execution_count": null,
   "metadata": {},
   "outputs": [],
   "source": [
    "proc.transform()\n",
    "proc.results"
   ]
  },
  {
   "cell_type": "code",
   "execution_count": null,
   "metadata": {},
   "outputs": [],
   "source": [
    "proc.results.evi2.odc.explore()"
   ]
  },
  {
   "cell_type": "code",
   "execution_count": null,
   "metadata": {},
   "outputs": [],
   "source": [
    "proc.results.evi2.max()"
   ]
  }
 ],
 "metadata": {
  "kernelspec": {
   "display_name": "Python 3",
   "language": "python",
   "name": "python3"
  },
  "language_info": {
   "codemirror_mode": {
    "name": "ipython",
    "version": 3
   },
   "file_extension": ".py",
   "mimetype": "text/x-python",
   "name": "python",
   "nbconvert_exporter": "python",
   "pygments_lexer": "ipython3",
   "version": "3.11.9"
  }
 },
 "nbformat": 4,
 "nbformat_minor": 2
}

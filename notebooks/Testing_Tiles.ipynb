{
 "cells": [
  {
   "cell_type": "code",
   "execution_count": 1,
   "metadata": {},
   "outputs": [],
   "source": [
    "import geopandas as gpd\n",
    "\n",
    "from ldn.utils import WGS84GRID30, get_tiles"
   ]
  },
  {
   "cell_type": "code",
   "execution_count": 3,
   "metadata": {},
   "outputs": [],
   "source": [
    "# Load our extents\n",
    "tiles = get_tiles()\n",
    "\n",
    "geometries = []\n",
    "attributes = []\n",
    "\n",
    "for id, geobox in tiles:\n",
    "    geometries.append(geobox.geographic_extent)\n",
    "    attributes.append({\"id\": id})\n",
    "\n",
    "gdf = gpd.GeoDataFrame(attributes, geometry=geometries, crs=geometries[0].crs)"
   ]
  },
  {
   "cell_type": "code",
   "execution_count": null,
   "metadata": {},
   "outputs": [],
   "source": [
    "gdf.explore()"
   ]
  }
 ],
 "metadata": {
  "kernelspec": {
   "display_name": "Python 3",
   "language": "python",
   "name": "python3"
  },
  "language_info": {
   "codemirror_mode": {
    "name": "ipython",
    "version": 3
   },
   "file_extension": ".py",
   "mimetype": "text/x-python",
   "name": "python",
   "nbconvert_exporter": "python",
   "pygments_lexer": "ipython3",
   "version": "3.11.9"
  }
 },
 "nbformat": 4,
 "nbformat_minor": 2
}

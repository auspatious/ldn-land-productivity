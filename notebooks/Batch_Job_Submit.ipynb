{
 "cells": [
  {
   "cell_type": "code",
   "execution_count": 1,
   "metadata": {},
   "outputs": [],
   "source": [
    "from ldn.utils import submit_job, get_job_status, get_cloudwatch_logs\n",
    "import time"
   ]
  },
  {
   "cell_type": "code",
   "execution_count": null,
   "metadata": {},
   "outputs": [
    {
     "name": "stdout",
     "output_type": "stream",
     "text": [
      "Job submitted with id: b4b15695-9b69-4746-9de4-d2f034659408\n",
      "Job status: SUBMITTED\n"
     ]
    }
   ],
   "source": [
    "job_name = \"version-0-1-0-job\"\n",
    "job_queue = \"normalQueue\"\n",
    "job_definition = \"auspatious-ldn\"\n",
    "container_overrides = {\n",
    "    \"command\": [\n",
    "        \"ldn-processor\",\n",
    "        # \"--tile\",\n",
    "        # \"Ref::tile\",\n",
    "        \"--year\",\n",
    "        \"Ref::year\",\n",
    "        \"--version\",\n",
    "        \"Ref::version\",\n",
    "        \"--n-workers\",\n",
    "        \"Ref::n_workers\",\n",
    "        \"--threads-per-worker\",\n",
    "        \"Ref::threads_per_worker\",\n",
    "        \"--memory-limit\",\n",
    "        \"Ref::memory_limit\",\n",
    "        \"Ref::overwrite\",\n",
    "    ],\n",
    "    \"vcpus\": 16,\n",
    "    \"memory\": 122880,\n",
    "}\n",
    "parameters = {\n",
    "    \"tile\": \"238,47\",\n",
    "    \"year\": \"2023\",\n",
    "    \"version\": \"0.1.0\",\n",
    "    \"n_workers\": \"4\",\n",
    "    \"threads_per_worker\": \"32\",\n",
    "    \"memory_limit\": \"80GB\",\n",
    "    \"overwrite\": \"--overwrite\",\n",
    "}\n",
    "\n",
    "job_id = submit_job(\n",
    "    job_name, job_queue, job_definition, container_overrides, parameters, multi=True\n",
    ")\n",
    "print(\"Job submitted with id:\", job_id)\n",
    "\n",
    "old_logs = set()\n",
    "status = get_job_status(job_id)\n",
    "\n",
    "# Get status of job every 10 seconds\n",
    "while status not in('SUCCEEDED', 'FAILED'):\n",
    "    new_status = get_job_status(job_id)\n",
    "    if new_status != status:\n",
    "        print('Job status:', status)\n",
    "        status = new_status\n",
    "\n",
    "    if new_status == 'RUNNING':\n",
    "        logs = get_cloudwatch_logs(job_id)\n",
    "\n",
    "        for log in logs:\n",
    "            log_message = log['message']\n",
    "            if log_message not in old_logs:\n",
    "                print(log_message)\n",
    "                old_logs.add(log_message)\n",
    "\n",
    "    time.sleep(10)\n",
    "else:\n",
    "    print(f'Job {status} successfully')"
   ]
  },
  {
   "cell_type": "code",
   "execution_count": null,
   "metadata": {},
   "outputs": [],
   "source": []
  }
 ],
 "metadata": {
  "kernelspec": {
   "display_name": "Python 3",
   "language": "python",
   "name": "python3"
  },
  "language_info": {
   "codemirror_mode": {
    "name": "ipython",
    "version": 3
   },
   "file_extension": ".py",
   "mimetype": "text/x-python",
   "name": "python",
   "nbconvert_exporter": "python",
   "pygments_lexer": "ipython3",
   "version": "3.11.9"
  }
 },
 "nbformat": 4,
 "nbformat_minor": 2
}

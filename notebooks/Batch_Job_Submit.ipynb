{
 "cells": [
  {
   "cell_type": "code",
   "execution_count": 1,
   "metadata": {},
   "outputs": [],
   "source": [
    "import boto3"
   ]
  },
  {
   "cell_type": "code",
   "execution_count": 7,
   "metadata": {},
   "outputs": [],
   "source": [
    "# Submit a batch job\n",
    "def submit_job(job_name, job_queue, job_definition, container_overrides, parameters):\n",
    "    client = boto3.client('batch')\n",
    "    response = client.submit_job(\n",
    "        jobName=job_name,\n",
    "        jobQueue=job_queue,\n",
    "        jobDefinition=job_definition,\n",
    "        containerOverrides=container_overrides,\n",
    "        parameters=parameters,\n",
    "        schedulingPriorityOverride=99,\n",
    "        shareIdentifier=\"alex\",\n",
    "        retryStrategy={\n",
    "            'attempts': 1\n",
    "        }\n",
    "    )\n",
    "    return response['jobId']\n",
    "\n",
    "# Submit an array job\n",
    "def submit_array_job(job_name, job_queue, job_definition, container_overrides, array_properties):\n",
    "    client = boto3.client('batch')\n",
    "    response = client.submit_job(\n",
    "        jobName=job_name,\n",
    "        jobQueue=job_queue,\n",
    "        jobDefinition=job_definition,\n",
    "        containerOverrides=container_overrides,\n",
    "        arrayProperties=array_properties,\n",
    "        schedulingPriorityOverride=99,\n",
    "        shareIdentifier=\"alex\",\n",
    "    )\n",
    "    return response['jobId']\n",
    "\n",
    "# Get the status of a job\n",
    "def get_job_status(job_id):\n",
    "    client = boto3.client('batch')\n",
    "    response = client.describe_jobs(\n",
    "        jobs=[job_id]\n",
    "    )\n",
    "    return response['jobs'][0]['status']\n",
    "\n",
    "def get_cloudwatch_logs(job_id):\n",
    "    client = boto3.client('batch')\n",
    "    response = client.describe_jobs(\n",
    "        jobs=[job_id]\n",
    "    )\n",
    "    log_stream_name = response['jobs'][0]['container']['logStreamName']\n",
    "\n",
    "    logs_client = boto3.client('logs')\n",
    "    log_group_name = f'/aws/batch/auspatious-ldn'\n",
    "\n",
    "    response = logs_client.get_log_events(\n",
    "        logGroupName=log_group_name,\n",
    "        logStreamName=log_stream_name,\n",
    "        startFromHead=True\n",
    "    )\n",
    "\n",
    "    events = response['events']\n",
    "    for event in events:\n",
    "        print(event['message'])"
   ]
  },
  {
   "cell_type": "code",
   "execution_count": 30,
   "metadata": {},
   "outputs": [
    {
     "name": "stdout",
     "output_type": "stream",
     "text": [
      "Job submitted with id: 5bf65070-8855-4513-b220-e20bfcf2d5c5\n",
      "Job status: SUBMITTED\n"
     ]
    }
   ],
   "source": [
    "job_name = \"real-job\"\n",
    "job_queue = \"Fargate\"\n",
    "job_definition = \"auspatious-ldn\"\n",
    "# job_command = ['aws', 's3', 'ls', 's3://data.ldn.auspatious.com/']\n",
    "container_overrides = {\n",
    "    \"command\": [\n",
    "        \"ldn-processor\",\n",
    "        \"--tile\",\n",
    "        \"Ref::tile\",\n",
    "        \"--year\",\n",
    "        \"Ref::year\",\n",
    "        \"--version\",\n",
    "        \"Ref::version\",\n",
    "        \"Ref::extra_options\",\n",
    "    ],\n",
    "    \"resourceRequirements\": [\n",
    "        {\"type\": \"VCPU\", \"value\": \"16\"},\n",
    "        {\"type\": \"MEMORY\", \"value\": \"122880\"},\n",
    "    ],\n",
    "}\n",
    "parameters = {\n",
    "    \"tile\": \"238,47\",\n",
    "    \"year\": \"2023\",\n",
    "    \"version\": \"0.1.0\",\n",
    "    \"extra_options\": \"--overwrite\",\n",
    "}\n",
    "\n",
    "job_id = submit_job(\n",
    "    job_name, job_queue, job_definition, container_overrides, parameters\n",
    ")\n",
    "print(\"Job submitted with id:\", job_id)\n",
    "\n",
    "status = get_job_status(job_id)\n",
    "print(\"Job status:\", status)"
   ]
  },
  {
   "cell_type": "code",
   "execution_count": 34,
   "metadata": {},
   "outputs": [
    {
     "name": "stdout",
     "output_type": "stream",
     "text": [
      "Job status: RUNNABLE\n",
      "Job status: STARTING\n",
      "Job status: RUNNING\n",
      "Job status: RUNNABLE\n",
      "Job status: STARTING\n"
     ]
    },
    {
     "ename": "KeyboardInterrupt",
     "evalue": "",
     "output_type": "error",
     "traceback": [
      "\u001b[0;31m---------------------------------------------------------------------------\u001b[0m",
      "\u001b[0;31mKeyboardInterrupt\u001b[0m                         Traceback (most recent call last)",
      "Cell \u001b[0;32mIn[34], line 9\u001b[0m\n\u001b[1;32m      6\u001b[0m         status \u001b[38;5;241m=\u001b[39m new_status\n\u001b[1;32m      8\u001b[0m     \u001b[38;5;28;01mimport\u001b[39;00m \u001b[38;5;21;01mtime\u001b[39;00m\n\u001b[0;32m----> 9\u001b[0m     \u001b[43mtime\u001b[49m\u001b[38;5;241;43m.\u001b[39;49m\u001b[43msleep\u001b[49m\u001b[43m(\u001b[49m\u001b[38;5;241;43m10\u001b[39;49m\u001b[43m)\u001b[49m\n\u001b[1;32m     10\u001b[0m \u001b[38;5;28;01melse\u001b[39;00m:\n\u001b[1;32m     11\u001b[0m     \u001b[38;5;28mprint\u001b[39m(\u001b[38;5;124mf\u001b[39m\u001b[38;5;124m'\u001b[39m\u001b[38;5;124mJob \u001b[39m\u001b[38;5;132;01m{\u001b[39;00mstatus\u001b[38;5;132;01m}\u001b[39;00m\u001b[38;5;124m successfully\u001b[39m\u001b[38;5;124m'\u001b[39m)\n",
      "\u001b[0;31mKeyboardInterrupt\u001b[0m: "
     ]
    }
   ],
   "source": [
    "# Get status of job every 10 seconds\n",
    "while status not in('SUCCEEDED', 'FAILED'):\n",
    "    new_status = get_job_status(job_id)\n",
    "    if new_status != status:\n",
    "        print('Job status:', status)\n",
    "        status = new_status\n",
    "\n",
    "    import time\n",
    "    time.sleep(10)\n",
    "else:\n",
    "    print(f'Job {status} successfully')"
   ]
  },
  {
   "cell_type": "code",
   "execution_count": 37,
   "metadata": {},
   "outputs": [
    {
     "name": "stdout",
     "output_type": "stream",
     "text": [
      "2024-10-14 08:12:50 INFO (238_47): Starting full run...\n",
      "2024-10-14 08:12:52 INFO (238_47): Found 186 items\n",
      "2024-10-14 08:12:52 INFO (238_47): Loading 186 items\n",
      "2024-10-14 08:12:54 INFO (238_47): Loaded data with shape lon: 5000 lat: 5000 time: 98\n",
      "2024-10-14 08:12:54 INFO (238_47): Preparing data...\n",
      "2024-10-14 08:12:54 INFO (238_47): Resampling to monthly...\n",
      "2024-10-14 08:12:55 INFO (238_47): Interpolating and filling gaps...\n",
      "/code/.venv/lib/python3.12/site-packages/rasterio/warp.py:387: NotGeoreferencedWarning: Dataset has no geotransform, gcps, or rpcs. The identity matrix will be returned.\n",
      "  dest = _reproject(\n",
      "/code/.venv/lib/python3.12/site-packages/rasterio/warp.py:387: NotGeoreferencedWarning: Dataset has no geotransform, gcps, or rpcs. The identity matrix will be returned.\n",
      "  dest = _reproject(\n",
      "/code/.venv/lib/python3.12/site-packages/rasterio/warp.py:387: NotGeoreferencedWarning: Dataset has no geotransform, gcps, or rpcs. The identity matrix will be returned.\n",
      "  dest = _reproject(\n"
     ]
    }
   ],
   "source": [
    "get_cloudwatch_logs(job_id)"
   ]
  },
  {
   "cell_type": "code",
   "execution_count": null,
   "metadata": {},
   "outputs": [],
   "source": [
    "--overwrite"
   ]
  },
  {
   "cell_type": "code",
   "execution_count": null,
   "metadata": {},
   "outputs": [],
   "source": [
    "job_name = 'test-job'\n",
    "job_queue = 'LowPriorityFargate'\n",
    "job_definition = 'auspatious-ldn'\n",
    "# job_command = ['aws', 's3', 'ls', 's3://data.ldn.auspatious.com/']\n",
    "job_command = [\"echo\", 'Ref::test']\n",
    "array_properties = {\n",
    "    'size': 2\n",
    "}\n",
    "job_id = submit_array_job(job_name, job_queue, job_definition, job_command, array_properties=array_properties)\n",
    "print('Job submitted with id:', job_id)\n",
    "\n",
    "status = get_job_status(job_id)\n",
    "print('Job status:', status)\n",
    "\n",
    "# Get status of job every 10 seconds\n",
    "while status != 'SUCCEEDED':\n",
    "    status = get_job_status(job_id)\n",
    "    import time\n",
    "    time.sleep(10)\n",
    "else:\n",
    "    print('Job completed successfully')"
   ]
  }
 ],
 "metadata": {
  "kernelspec": {
   "display_name": "Python 3",
   "language": "python",
   "name": "python3"
  },
  "language_info": {
   "codemirror_mode": {
    "name": "ipython",
    "version": 3
   },
   "file_extension": ".py",
   "mimetype": "text/x-python",
   "name": "python",
   "nbconvert_exporter": "python",
   "pygments_lexer": "ipython3",
   "version": "3.11.9"
  }
 },
 "nbformat": 4,
 "nbformat_minor": 2
}

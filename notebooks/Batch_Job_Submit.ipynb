{
 "cells": [
  {
   "cell_type": "code",
   "execution_count": 1,
   "metadata": {},
   "outputs": [],
   "source": [
    "from ldn.utils import execute, get_job_status, get_tiles\n",
    "from ldn.processor import LDNProcessor\n",
    "import s3fs\n",
    "\n",
    "import time"
   ]
  },
  {
   "cell_type": "code",
   "execution_count": 8,
   "metadata": {},
   "outputs": [],
   "source": [
    "# Set up variables here.\n",
    "restart = True\n",
    "jobs={}"
   ]
  },
  {
   "cell_type": "code",
   "execution_count": null,
   "metadata": {},
   "outputs": [],
   "source": [
    "from IPython.display import clear_output\n",
    "\n",
    "job_status={}\n",
    "\n",
    "for year in range(2000, 2024):\n",
    "    if restart:\n",
    "        job_id = execute(year)\n",
    "        jobs[year] = job_id\n",
    "    job_status[job_id] = get_job_status(job_id)\n",
    "\n",
    "restart = False\n",
    "\n",
    "# status = get_job_status(job_id)\n",
    "not_complete = True\n",
    "while not_complete:\n",
    "    clear_output(wait=True)\n",
    "    for year, job_id in jobs.items():        # If all jobs are either complete or failed, then break the loop\n",
    "        if all([status in [\"SUCCEEDED\", \"FAILED\"] for status in job_status.values()]):\n",
    "            print(f\"All tasks completed, or failed: {job_status}\")\n",
    "            not_complete = False\n",
    "            break\n",
    "    \n",
    "        status = get_job_status(job_id)\n",
    "        job_status[job_id] = status\n",
    "\n",
    "        print(f\"{year} is {status}\")\n",
    "\n",
    "    if not_complete:\n",
    "        time.sleep(2)"
   ]
  },
  {
   "cell_type": "code",
   "execution_count": null,
   "metadata": {},
   "outputs": [],
   "source": [
    "\n",
    "version = \"0.1.0\"\n",
    "\n",
    "path = f\"s3://data.ldn.auspatious.com/geo_ls_lp/{version.replace('.', '_')}/**/*.stac-item.json\"\n",
    "\n",
    "fs = s3fs.S3FileSystem(anon=True)\n",
    "stac_keys = fs.glob(path)\n",
    "\n",
    "print(f\"Found {len(stac_keys)} out of {30*(2024-2000)} STAC keys like this: {stac_keys[0]}\")\n",
    "\n",
    "incomplete_tiles = []\n",
    "tiles = get_tiles()\n",
    "\n",
    "for year in range(2000, 2024):\n",
    "    for tile, geobox in tiles:\n",
    "        processor = LDNProcessor(\n",
    "            tile,\n",
    "            year=year,\n",
    "            bucket=\"data.ldn.auspatious.com\",\n",
    "            configure_s3=False,\n",
    "            version=\"0.1.0\"\n",
    "        )\n",
    "        key = f\"{processor.bucket}/{processor.stac_key}\"\n",
    "        if not key in stac_keys:\n",
    "            incomplete_tiles.append((tile, year))\n",
    "            print(f\"Tile {tile} from {year} is not complete yet\")\n",
    "            "
   ]
  },
  {
   "cell_type": "code",
   "execution_count": null,
   "metadata": {},
   "outputs": [],
   "source": [
    "for tile, year in incomplete_tiles:\n",
    "    job_id = execute(year, tile=tile)"
   ]
  }
 ],
 "metadata": {
  "kernelspec": {
   "display_name": "Python 3",
   "language": "python",
   "name": "python3"
  },
  "language_info": {
   "codemirror_mode": {
    "name": "ipython",
    "version": 3
   },
   "file_extension": ".py",
   "mimetype": "text/x-python",
   "name": "python",
   "nbconvert_exporter": "python",
   "pygments_lexer": "ipython3",
   "version": "3.11.10"
  }
 },
 "nbformat": 4,
 "nbformat_minor": 2
}

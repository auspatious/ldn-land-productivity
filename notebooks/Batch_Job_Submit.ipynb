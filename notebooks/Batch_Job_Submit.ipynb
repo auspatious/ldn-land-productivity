{
 "cells": [
  {
   "cell_type": "code",
   "execution_count": null,
   "metadata": {},
   "outputs": [],
   "source": [
    "import boto3\n"
   ]
  },
  {
   "cell_type": "code",
   "execution_count": 47,
   "metadata": {},
   "outputs": [],
   "source": [
    "# Submit a batch job\n",
    "def submit_job(job_name, job_queue, job_definition, job_command, parameters):\n",
    "    client = boto3.client('batch')\n",
    "    response = client.submit_job(\n",
    "        jobName=job_name,\n",
    "        jobQueue=job_queue,\n",
    "        jobDefinition=job_definition,\n",
    "        containerOverrides={\n",
    "            'command': job_command\n",
    "        },\n",
    "        parameters=parameters,\n",
    "        schedulingPriorityOverride=99,\n",
    "        shareIdentifier=\"alex\",\n",
    "    )\n",
    "    return response['jobId']\n",
    "\n",
    "# Submit an array job\n",
    "def submit_array_job(job_name, job_queue, job_definition, job_command, array_properties):\n",
    "    client = boto3.client('batch')\n",
    "    response = client.submit_job(\n",
    "        jobName=job_name,\n",
    "        jobQueue=job_queue,\n",
    "        jobDefinition=job_definition,\n",
    "        containerOverrides={\n",
    "            'command': job_command\n",
    "        },\n",
    "        arrayProperties=array_properties,\n",
    "        schedulingPriorityOverride=99,\n",
    "        shareIdentifier=\"alex\",\n",
    "    )\n",
    "    return response['jobId']\n",
    "\n",
    "# Get the status of a job\n",
    "def get_job_status(job_id):\n",
    "    client = boto3.client('batch')\n",
    "    response = client.describe_jobs(\n",
    "        jobs=[job_id]\n",
    "    )\n",
    "    return response['jobs'][0]['status']\n",
    "\n",
    "def get_cloudwatch_logs(job_id):\n",
    "    client = boto3.client('batch')\n",
    "    response = client.describe_jobs(\n",
    "        jobs=[job_id]\n",
    "    )\n",
    "    log_stream_name = response['jobs'][0]['container']['logStreamName']\n",
    "\n",
    "    logs_client = boto3.client('logs')\n",
    "    log_group_name = f'/aws/batch/auspatious-ldn'\n",
    "\n",
    "    response = logs_client.get_log_events(\n",
    "        logGroupName=log_group_name,\n",
    "        logStreamName=log_stream_name,\n",
    "        startFromHead=True\n",
    "    )\n",
    "\n",
    "    events = response['events']\n",
    "    for event in events:\n",
    "        print(event['message'])"
   ]
  },
  {
   "cell_type": "code",
   "execution_count": null,
   "metadata": {},
   "outputs": [],
   "source": [
    "job_name = 'test-job'\n",
    "job_queue = 'LowPriorityFargate'\n",
    "job_definition = 'auspatious-ldn'\n",
    "# job_command = ['aws', 's3', 'ls', 's3://data.ldn.auspatious.com/']\n",
    "job_command = [\n",
    "    \"ldn-processor\",\n",
    "    \"--tile\", \"Ref::tile\",\n",
    "    \"--year\", \"Ref::year\",\n",
    "    \"--version\", \"Ref::version\",\n",
    "    \"Ref::extra_options\"\n",
    "]\n",
    "parameters = {\n",
    "    \"tile\": \"238,47\",\n",
    "    \"year\": \"2023\",\n",
    "    \"version\": \"0.1.0\",\n",
    "    \"extra_options\": \"--overwrite \",\n",
    "\n",
    "}\n",
    "\n",
    "job_id = submit_job(job_name, job_queue, job_definition, job_command, parameters)\n",
    "print('Job submitted with id:', job_id)\n",
    "\n",
    "status = get_job_status(job_id)\n",
    "print('Job status:', status)"
   ]
  },
  {
   "cell_type": "code",
   "execution_count": null,
   "metadata": {},
   "outputs": [],
   "source": [
    "# Get status of job every 10 seconds\n",
    "while status != 'SUCCEEDED':\n",
    "    new_status = get_job_status(job_id)\n",
    "    if new_status != status:\n",
    "        print('Job status:', status)\n",
    "        status = new_status\n",
    "\n",
    "    import time\n",
    "    time.sleep(10)\n",
    "else:\n",
    "    print('Job completed successfully')"
   ]
  },
  {
   "cell_type": "code",
   "execution_count": null,
   "metadata": {},
   "outputs": [],
   "source": [
    "job_name = 'test-job'\n",
    "job_queue = 'LowPriorityFargate'\n",
    "job_definition = 'auspatious-ldn'\n",
    "# job_command = ['aws', 's3', 'ls', 's3://data.ldn.auspatious.com/']\n",
    "job_command = [\"echo\", 'Ref::test']\n",
    "array_properties = {\n",
    "    'size': 2\n",
    "}\n",
    "job_id = submit_array_job(job_name, job_queue, job_definition, job_command, array_properties=array_properties)\n",
    "print('Job submitted with id:', job_id)\n",
    "\n",
    "status = get_job_status(job_id)\n",
    "print('Job status:', status)\n",
    "\n",
    "# Get status of job every 10 seconds\n",
    "while status != 'SUCCEEDED':\n",
    "    status = get_job_status(job_id)\n",
    "    import time\n",
    "    time.sleep(10)\n",
    "else:\n",
    "    print('Job completed successfully')"
   ]
  },
  {
   "cell_type": "code",
   "execution_count": null,
   "metadata": {},
   "outputs": [],
   "source": []
  },
  {
   "cell_type": "code",
   "execution_count": null,
   "metadata": {},
   "outputs": [],
   "source": [
    "get_cloudwatch_logs(job_id)"
   ]
  }
 ],
 "metadata": {
  "kernelspec": {
   "display_name": "Python 3",
   "language": "python",
   "name": "python3"
  },
  "language_info": {
   "codemirror_mode": {
    "name": "ipython",
    "version": 3
   },
   "file_extension": ".py",
   "mimetype": "text/x-python",
   "name": "python",
   "nbconvert_exporter": "python",
   "pygments_lexer": "ipython3",
   "version": "3.11.9"
  }
 },
 "nbformat": 4,
 "nbformat_minor": 2
}

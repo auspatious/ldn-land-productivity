{
 "cells": [
  {
   "cell_type": "code",
   "execution_count": 1,
   "metadata": {},
   "outputs": [],
   "source": [
    "from ldn.utils import submit_job, get_job_status, get_tiles\n",
    "from ldn.processor import LDNProcessor\n",
    "import s3fs\n",
    "\n",
    "import time"
   ]
  },
  {
   "cell_type": "code",
   "execution_count": 8,
   "metadata": {},
   "outputs": [],
   "source": [
    "def execute(year, tile=None):\n",
    "    extra_params = []\n",
    "    if tile is not None:\n",
    "        multi = False\n",
    "        extra_params = [\"--tile\", \",\".join([str(t) for t in tile])]\n",
    "\n",
    "    job_name = f\"version-0-1-0-{year}\"\n",
    "    job_queue = \"normalQueue\"\n",
    "    job_definition = \"auspatious-ldn\"\n",
    "    container_overrides = {\n",
    "        \"command\": [\n",
    "            \"ldn-processor\",\n",
    "            \"--year\",\n",
    "            \"Ref::year\",\n",
    "            \"--version\",\n",
    "            \"Ref::version\",\n",
    "            \"--n-workers\",\n",
    "            \"Ref::n_workers\",\n",
    "            \"--threads-per-worker\",\n",
    "            \"Ref::threads_per_worker\",\n",
    "            \"--memory-limit\",\n",
    "            \"Ref::memory_limit\",\n",
    "            \"Ref::overwrite\",\n",
    "            *extra_params,\n",
    "        ],\n",
    "        \"vcpus\": 16,\n",
    "        \"memory\": 122880,\n",
    "    }\n",
    "    parameters = {\n",
    "        \"tile\": \"238,47\",\n",
    "        \"year\": f\"{year}\",\n",
    "        \"version\": \"0.1.0\",\n",
    "        \"n_workers\": \"4\",\n",
    "        \"threads_per_worker\": \"32\",\n",
    "        \"memory_limit\": \"100GB\",\n",
    "        \"overwrite\": \"--no-overwrite\",\n",
    "    }\n",
    "\n",
    "    job_id = submit_job(\n",
    "        job_name, job_queue, job_definition, container_overrides, parameters, multi=multi\n",
    "    )\n",
    "    print(\"Job submitted with id:\", job_id)\n",
    "    return job_id\n",
    "\n",
    "restart = True\n",
    "jobs={}"
   ]
  },
  {
   "cell_type": "code",
   "execution_count": null,
   "metadata": {},
   "outputs": [],
   "source": [
    "from IPython.display import clear_output\n",
    "\n",
    "job_status={}\n",
    "\n",
    "for year in range(2000, 2024):\n",
    "    if restart:\n",
    "        job_id = execute(year)\n",
    "        jobs[year] = job_id\n",
    "    job_status[job_id] = get_job_status(job_id)\n",
    "\n",
    "restart = False\n",
    "\n",
    "# status = get_job_status(job_id)\n",
    "not_complete = True\n",
    "while not_complete:\n",
    "    clear_output(wait=True)\n",
    "    for year, job_id in jobs.items():        # If all jobs are either complete or failed, then break the loop\n",
    "        if all([status in [\"SUCCEEDED\", \"FAILED\"] for status in job_status.values()]):\n",
    "            print(f\"All tasks completed, or failed: {job_status}\")\n",
    "            not_complete = False\n",
    "            break\n",
    "    \n",
    "        status = get_job_status(job_id)\n",
    "        job_status[job_id] = status\n",
    "\n",
    "        print(f\"{year} is {status}\")\n",
    "\n",
    "    if not_complete:\n",
    "        time.sleep(2)"
   ]
  },
  {
   "cell_type": "code",
   "execution_count": 11,
   "metadata": {},
   "outputs": [
    {
     "name": "stdout",
     "output_type": "stream",
     "text": [
      "Found 710 out of 720 STAC keys like this: data.ldn.auspatious.com/geo_ls_lp/0_1_0/046/237/2000/geo_ls_lp_2000_046_237.stac-item.json\n",
      "Tile (49, 238) from 2001 is not complete yet\n",
      "Tile (69, 79) from 2001 is not complete yet\n",
      "Tile (70, 60) from 2001 is not complete yet\n",
      "Tile (71, 61) from 2001 is not complete yet\n",
      "Tile (66, 78) from 2003 is not complete yet\n",
      "Tile (66, 80) from 2003 is not complete yet\n",
      "Tile (47, 237) from 2005 is not complete yet\n",
      "Tile (70, 61) from 2005 is not complete yet\n",
      "Tile (49, 238) from 2010 is not complete yet\n",
      "Tile (71, 60) from 2013 is not complete yet\n"
     ]
    }
   ],
   "source": [
    "\n",
    "version = \"0.1.0\"\n",
    "\n",
    "path = f\"s3://data.ldn.auspatious.com/geo_ls_lp/{version.replace('.', '_')}/**/*.stac-item.json\"\n",
    "\n",
    "fs = s3fs.S3FileSystem(anon=True)\n",
    "stac_keys = fs.glob(path)\n",
    "\n",
    "print(f\"Found {len(stac_keys)} out of {30*(2024-2000)} STAC keys like this: {stac_keys[0]}\")\n",
    "\n",
    "incomplete_tiles = []\n",
    "tiles = get_tiles()\n",
    "\n",
    "for year in range(2000, 2024):\n",
    "    for tile, geobox in tiles:\n",
    "        processor = LDNProcessor(\n",
    "            tile,\n",
    "            year=year,\n",
    "            bucket=\"data.ldn.auspatious.com\",\n",
    "            configure_s3=False,\n",
    "            version=\"0.1.0\"\n",
    "        )\n",
    "        key = f\"{processor.bucket}/{processor.stac_key}\"\n",
    "        if not key in stac_keys:\n",
    "            incomplete_tiles.append((tile, year))\n",
    "            print(f\"Tile {tile} from {year} is not complete yet\")\n",
    "            "
   ]
  },
  {
   "cell_type": "code",
   "execution_count": 16,
   "metadata": {},
   "outputs": [
    {
     "name": "stdout",
     "output_type": "stream",
     "text": [
      "Job submitted with id: e743aff4-d9f7-4e1b-92e5-5ceda6b244c9\n"
     ]
    }
   ],
   "source": [
    "for tile, year in incomplete_tiles:\n",
    "    job_id = execute(year, tile=tile)"
   ]
  }
 ],
 "metadata": {
  "kernelspec": {
   "display_name": "Python 3",
   "language": "python",
   "name": "python3"
  },
  "language_info": {
   "codemirror_mode": {
    "name": "ipython",
    "version": 3
   },
   "file_extension": ".py",
   "mimetype": "text/x-python",
   "name": "python",
   "nbconvert_exporter": "python",
   "pygments_lexer": "ipython3",
   "version": "3.11.9"
  }
 },
 "nbformat": 4,
 "nbformat_minor": 2
}

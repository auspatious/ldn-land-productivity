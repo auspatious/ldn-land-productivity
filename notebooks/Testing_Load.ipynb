{
 "cells": [
  {
   "cell_type": "code",
   "execution_count": 1,
   "metadata": {},
   "outputs": [],
   "source": [
    "from pystac import Item\n",
    "from odc.stac import load\n",
    "import s3fs\n",
    "from ipyleaflet import basemaps\n",
    "import odc.geo.xr  # noqa: F401"
   ]
  },
  {
   "cell_type": "code",
   "execution_count": null,
   "metadata": {},
   "outputs": [],
   "source": [
    "tiles = [\n",
    "    (\"047\", \"238\"),\n",
    "    (\"047\", \"239\"),\n",
    "    (\"048\", \"238\"),\n",
    "    (\"048\", \"239\"),\n",
    "]\n",
    "\n",
    "items = []\n",
    "\n",
    "for tile in tiles:\n",
    "    url = f\"https://data.ldn.auspatious.com/geo_ls_lp/0_1_0/{tile[0]}/{tile[1]}/2023/geo_ls_lp_2023_{tile[0]}_{tile[1]}.stac-item.json\"\n",
    "    items.append(Item.from_file(url))"
   ]
  },
  {
   "cell_type": "code",
   "execution_count": null,
   "metadata": {},
   "outputs": [],
   "source": [
    "path = \"s3://data.ldn.auspatious.com/geo_ls_lp/**/*.stac-item.json\"\n",
    "\n",
    "fs = s3fs.S3FileSystem(anon=True)\n",
    "stac_keys = fs.glob(path)\n",
    "\n",
    "items = [Item.from_file(f\"https://{key}\") for key in stac_keys]\n",
    "\n",
    "print(f\"Found {len(items)} items\")"
   ]
  },
  {
   "cell_type": "code",
   "execution_count": null,
   "metadata": {},
   "outputs": [],
   "source": [
    "# # Bounding box covering only viti levu\n",
    "# bbox = [177.20, -18.30, 178.75, -17.25]\n",
    "\n",
    "# Bounding box covering Belize\n",
    "bbox = [-89.5, 15.8, -88.1, 18.5]\n",
    "\n",
    "# # Bounding box covering Trinidad and Tobago\n",
    "# bbox = [-62.0, 10.0, -60.5, 11.5]\n",
    "\n",
    "data = load(\n",
    "    items,\n",
    "    chunks={\"time\": 1, \"x\": 2500, \"y\": 2500},\n",
    "    bbox=bbox,\n",
    ").squeeze().compute()\n",
    "\n",
    "data"
   ]
  },
  {
   "cell_type": "code",
   "execution_count": null,
   "metadata": {},
   "outputs": [],
   "source": [
    "data.evi2.odc.explore(tiles=basemaps.Esri.WorldImagery)"
   ]
  },
  {
   "cell_type": "markdown",
   "metadata": {},
   "source": [
    "https://www.fused.io/server/v1/realtime-shared/fsh_5vRfred1ROpHbAPRZ0sqIE/run/tiles/13/2711/3764?dtype_out_raster=png&year=2023&variable=evi2"
   ]
  },
  {
   "cell_type": "code",
   "execution_count": 23,
   "metadata": {},
   "outputs": [],
   "source": [
    "m.save(\"viti_levu_all.html\")"
   ]
  },
  {
   "cell_type": "code",
   "execution_count": null,
   "metadata": {},
   "outputs": [],
   "source": [
    "import ipyleaflet\n",
    "\n",
    "m = ipyleaflet.Map(\n",
    "    center=(-18.145715165279427, 178.42568862657757),\n",
    "    zoom=10.093458956904048,\n",
    "    basemap=ipyleaflet.basemaps.Esri.WorldImagery,\n",
    ")\n",
    "l = ipyleaflet.TileLayer(\n",
    "    url=f\"https://www.fused.io/server/v1/realtime-shared/fsh_5vRfred1ROpHbAPRZ0sqIE/run/tiles/{{z}}/{{x}}/{{y}}\",\n",
    "    tile_size=512,\n",
    "    zoom_offset=-1,\n",
    "    cross_origin=True,\n",
    "    show_loading=True,\n",
    "    name=\"test\"\n",
    ")\n",
    "m.add_layer(l)\n",
    "\n",
    "m.add_control(ipyleaflet.LayersControl(position=\"topright\"))\n",
    "\n",
    "m"
   ]
  }
 ],
 "metadata": {
  "kernelspec": {
   "display_name": "Python 3",
   "language": "python",
   "name": "python3"
  },
  "language_info": {
   "codemirror_mode": {
    "name": "ipython",
    "version": 3
   },
   "file_extension": ".py",
   "mimetype": "text/x-python",
   "name": "python",
   "nbconvert_exporter": "python",
   "pygments_lexer": "ipython3",
   "version": "3.11.9"
  }
 },
 "nbformat": 4,
 "nbformat_minor": 2
}

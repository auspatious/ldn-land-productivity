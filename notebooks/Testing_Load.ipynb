{
 "cells": [
  {
   "cell_type": "code",
   "execution_count": 1,
   "metadata": {},
   "outputs": [],
   "source": [
    "from pystac import Item\n",
    "from odc.stac import load\n",
    "import odc.geo.xr  # noqa: F401"
   ]
  },
  {
   "cell_type": "code",
   "execution_count": 3,
   "metadata": {},
   "outputs": [],
   "source": [
    "tiles = [\n",
    "    (118, -12),\n",
    "    (119, -12),\n",
    "    (118, -13),\n",
    "    (119, -13),\n",
    "]\n",
    "\n",
    "items = []\n",
    "\n",
    "for tile in tiles:\n",
    "    url = f\"https://data.ldn.auspatious.com/test/geo_ls_lp/0_0_1/2023/{tile[0]}/{tile[1]}/geo-ls-lp_2023_{tile[0]}_{tile[1]}.stac-item.json\"\n",
    "    items.append(Item.from_file(url))"
   ]
  },
  {
   "cell_type": "code",
   "execution_count": null,
   "metadata": {},
   "outputs": [],
   "source": [
    "# Bounding box covering only viti levu\n",
    "bbox = [177.20, -18.30, 178.75, -17.25]\n",
    "\n",
    "data = load(\n",
    "    items,\n",
    "    chunks={\"time\": 1, \"x\": 2500, \"y\": 2500},\n",
    "    bbox=bbox,\n",
    "    measurements=[\"evi2\"]\n",
    ").compute()\n",
    "\n",
    "data"
   ]
  },
  {
   "cell_type": "code",
   "execution_count": null,
   "metadata": {},
   "outputs": [],
   "source": [
    "evi2 = data.evi2.clip(0, 365)\n",
    "\n",
    "evi2.plot.hist(bins=100)"
   ]
  },
  {
   "cell_type": "code",
   "execution_count": null,
   "metadata": {},
   "outputs": [],
   "source": [
    "m = data.evi2.isel(time=0).odc.explore()\n",
    "\n",
    "m"
   ]
  },
  {
   "cell_type": "code",
   "execution_count": 23,
   "metadata": {},
   "outputs": [],
   "source": [
    "m.save(\"viti_levu_all.html\")"
   ]
  }
 ],
 "metadata": {
  "kernelspec": {
   "display_name": "Python 3",
   "language": "python",
   "name": "python3"
  },
  "language_info": {
   "codemirror_mode": {
    "name": "ipython",
    "version": 3
   },
   "file_extension": ".py",
   "mimetype": "text/x-python",
   "name": "python",
   "nbconvert_exporter": "python",
   "pygments_lexer": "ipython3",
   "version": "3.10.12"
  }
 },
 "nbformat": 4,
 "nbformat_minor": 2
}

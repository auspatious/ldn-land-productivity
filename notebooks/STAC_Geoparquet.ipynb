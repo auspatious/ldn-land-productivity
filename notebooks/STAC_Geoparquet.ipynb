{
 "cells": [
  {
   "cell_type": "code",
   "execution_count": null,
   "metadata": {},
   "outputs": [],
   "source": [
    "import stacrs\n",
    "from odc.stac import load\n",
    "\n",
    "url = \"https://data.ldn.auspatious.com/geo_ls_lp/geo_ls_lp_0_1_0.parquet\"\n",
    "\n",
    "center = 13.881, -60.978\n",
    "year = 2023\n",
    "buffer = 0.5\n",
    "\n",
    "bbox = (\n",
    "    center[1] - buffer,\n",
    "    center[0] - buffer,\n",
    "    center[1] + buffer,\n",
    "    center[0] + buffer,\n",
    ")\n",
    "\n",
    "items = stacrs.search(\n",
    "    url,\n",
    "    bbox=bbox,\n",
    "    datetime=f\"{year}-01-01T00:00:00.000Z/{year}-12-31T23:59:59.999Z\",\n",
    ")\n",
    "\n",
    "data = load(items, bbox=bbox, groupby=\"solar_day\", chunks={})\n",
    "data"
   ]
  },
  {
   "cell_type": "code",
   "execution_count": null,
   "metadata": {},
   "outputs": [],
   "source": [
    "data.evi2.odc.explore()"
   ]
  }
 ],
 "metadata": {
  "kernelspec": {
   "display_name": "Python 3",
   "language": "python",
   "name": "python3"
  },
  "language_info": {
   "codemirror_mode": {
    "name": "ipython",
    "version": 3
   },
   "file_extension": ".py",
   "mimetype": "text/x-python",
   "name": "python",
   "nbconvert_exporter": "python",
   "pygments_lexer": "ipython3",
   "version": "3.11.10"
  }
 },
 "nbformat": 4,
 "nbformat_minor": 2
}

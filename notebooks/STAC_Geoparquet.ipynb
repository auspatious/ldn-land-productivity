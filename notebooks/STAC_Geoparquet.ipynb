{
 "cells": [
  {
   "cell_type": "code",
   "execution_count": null,
   "metadata": {},
   "outputs": [],
   "source": [
    "import stacrs\n",
    "from odc.stac import load\n",
    "from pystac import Item\n",
    "\n",
    "url = \"https://data.ldn.auspatious.com/geo_ls_lp/geo_ls_lp_0_1_0.parquet\"\n",
    "\n",
    "center = -16.577779589554417, 179.43348662374385\n",
    "bbox = (\n",
    "    center[1] - 0.05,\n",
    "    center[0] - 0.05,\n",
    "    center[1] + 0.05,\n",
    "    center[0] + 0.05,\n",
    ")\n",
    "\n",
    "item_dicts = stacrs.search(\n",
    "    url,\n",
    "    bbox=bbox,\n",
    "    datetime=\"2023-01-01T00:00:00.000Z/2023-12-31T23:59:59.999Z\",\n",
    ")\n",
    "\n",
    "items = [Item.from_dict(d) for d in item_dicts]\n",
    "\n",
    "\n",
    "data = load(items, bbox=bbox, chunks={})\n",
    "data\n"
   ]
  }
 ],
 "metadata": {
  "kernelspec": {
   "display_name": "Python 3",
   "language": "python",
   "name": "python3"
  },
  "language_info": {
   "codemirror_mode": {
    "name": "ipython",
    "version": 3
   },
   "file_extension": ".py",
   "mimetype": "text/x-python",
   "name": "python",
   "nbconvert_exporter": "python",
   "pygments_lexer": "ipython3",
   "version": "3.11.9"
  }
 },
 "nbformat": 4,
 "nbformat_minor": 2
}

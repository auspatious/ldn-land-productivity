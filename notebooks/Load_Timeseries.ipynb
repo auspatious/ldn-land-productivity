{
 "cells": [
  {
   "cell_type": "code",
   "execution_count": null,
   "metadata": {},
   "outputs": [],
   "source": [
    "import stacrs\n",
    "from odc.stac import load\n",
    "\n",
    "from odc.geo import Geometry\n",
    "from dask.distributed import Client\n",
    "\n",
    "from odc.geo.xr import rasterize\n",
    "\n",
    "import geopandas as gpd"
   ]
  },
  {
   "cell_type": "code",
   "execution_count": null,
   "metadata": {},
   "outputs": [],
   "source": [
    "url = (\n",
    "    \"https://media.githubusercontent.com/media/wmgeolab/geoBoundaries/\"\n",
    "    \"9469f09592ced973a3448cf66b6100b741b64c0d/releaseData/gbOpen/BLZ/ADM0/geoBoundaries-BLZ-ADM0-all.zip\"\n",
    ")\n",
    "\n",
    "geometry = gpd.read_file(url, layer=\"geoBoundaries-BLZ-ADM0\")\n",
    "geometry.explore()"
   ]
  },
  {
   "cell_type": "code",
   "execution_count": null,
   "metadata": {},
   "outputs": [],
   "source": [
    "url = \"https://data.ldn.auspatious.com/geo_ls_lp/geo_ls_lp_0_1_0.parquet\"\n",
    "\n",
    "items = stacrs.search(\n",
    "    url,\n",
    "    bbox=list(geometry.geometry.bounds.values.flatten())\n",
    ")\n",
    "\n",
    "data = load(items, geopolygon=geometry)\n",
    "data"
   ]
  },
  {
   "cell_type": "code",
   "execution_count": null,
   "metadata": {},
   "outputs": [],
   "source": [
    "data.odc.geobox"
   ]
  },
  {
   "cell_type": "code",
   "execution_count": null,
   "metadata": {},
   "outputs": [],
   "source": [
    "# Create a mask\n",
    "mask = rasterize(Geometry(geometry.to_geo_dict()), how=data.odc.geobox)\n",
    "masked = data.where(mask)"
   ]
  },
  {
   "cell_type": "code",
   "execution_count": null,
   "metadata": {},
   "outputs": [],
   "source": [
    "masked.isel(time=-1).evi2.odc.explore()"
   ]
  },
  {
   "cell_type": "code",
   "execution_count": null,
   "metadata": {},
   "outputs": [],
   "source": [
    "with Client(n_workers=4, threads_per_worker=16) as client:\n",
    "    annual_mean = masked.evi2.mean(dim=[\"longitude\", \"latitude\"]).compute()"
   ]
  },
  {
   "cell_type": "code",
   "execution_count": null,
   "metadata": {},
   "outputs": [],
   "source": [
    "annual_mean.plot(size=3, aspect=2.5)"
   ]
  }
 ],
 "metadata": {
  "kernelspec": {
   "display_name": "Python 3",
   "language": "python",
   "name": "python3"
  },
  "language_info": {
   "codemirror_mode": {
    "name": "ipython",
    "version": 3
   },
   "file_extension": ".py",
   "mimetype": "text/x-python",
   "name": "python",
   "nbconvert_exporter": "python",
   "pygments_lexer": "ipython3",
   "version": "3.11.10"
  }
 },
 "nbformat": 4,
 "nbformat_minor": 2
}

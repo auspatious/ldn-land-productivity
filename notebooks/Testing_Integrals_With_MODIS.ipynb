{
 "cells": [
  {
   "cell_type": "code",
   "execution_count": null,
   "metadata": {},
   "outputs": [],
   "source": [
    "from pystac_client import Client\n",
    "from odc.stac import load, configure_s3_access\n",
    "from dask.distributed import Client as DaskClient\n",
    "\n",
    "from ldn.utils import (\n",
    "    WGS84GRID30,\n",
    "    USGSCATALOG,\n",
    "    USGSLANDSAT,\n",
    "    http_to_s3_url,\n",
    "    mask_usgs_landsat,\n",
    "    create_land_productivity_indices,\n",
    ")\n",
    "\n",
    "from planetary_computer import sign_url"
   ]
  },
  {
   "cell_type": "code",
   "execution_count": null,
   "metadata": {},
   "outputs": [],
   "source": [
    "# Configure S3 access, which requires AWS credentials for loading USGS Landsat data\n",
    "configure_s3_access(cloud_defaults=True, requester_pays=True)\n",
    "\n",
    "client = Client.open(USGSCATALOG)"
   ]
  },
  {
   "cell_type": "code",
   "execution_count": null,
   "metadata": {},
   "outputs": [],
   "source": [
    "# tile = (48, 238)  # Fiji, over Suva\n",
    "tile = (69, 79)   # Martinique and St Lucia\n",
    "# tile = (71, 60)   # Belmopan in Belize\n",
    "\n",
    "# Get the tile\n",
    "geobox = WGS84GRID30[tile]\n",
    "\n",
    "# Zoom out (decimate) the geobox\n",
    "geobox = geobox.zoom_out(10)\n",
    "geobox.explore()"
   ]
  },
  {
   "cell_type": "code",
   "execution_count": null,
   "metadata": {},
   "outputs": [],
   "source": [
    "year = 2003\n",
    "\n",
    "items = client.search(\n",
    "    collections=[USGSLANDSAT],\n",
    "    intersects=geobox.geographic_extent,\n",
    "    datetime=f\"{year-1}-11/{year+1}-01\",\n",
    "    query={\"landsat:collection_category\": {\"in\": [\"T1\"]}},\n",
    ").item_collection()\n",
    "\n",
    "print(f\"Found {len(items)} items\")"
   ]
  },
  {
   "cell_type": "code",
   "execution_count": null,
   "metadata": {},
   "outputs": [],
   "source": [
    "data = load(\n",
    "    items,\n",
    "    geobox=geobox,\n",
    "    measurements=[\"red\", \"nir08\", \"qa_pixel\"],\n",
    "    chunks={\"x\": 2500, \"y\": 2500},\n",
    "    groupby=\"solar_day\",\n",
    "    dtype=\"uint16\",\n",
    "    nodata=0,\n",
    "    resampling={\"qa_pixel\": \"nearest\"},\n",
    "    patch_url=http_to_s3_url,\n",
    ")\n",
    "\n",
    "data = data.rename_vars({\"nir08\": \"nir\"})\n",
    "\n",
    "data"
   ]
  },
  {
   "cell_type": "code",
   "execution_count": null,
   "metadata": {},
   "outputs": [],
   "source": [
    "# Create cloud mask, scale values to 0-1 and set nodata to NaN\n",
    "masked = mask_usgs_landsat(data)\n",
    "\n",
    "# Create the NDVI, MSAVI and EVI2\n",
    "indices = create_land_productivity_indices(masked, drop=False)\n",
    "\n",
    "indices"
   ]
  },
  {
   "cell_type": "code",
   "execution_count": null,
   "metadata": {},
   "outputs": [],
   "source": [
    "with DaskClient(n_workers=2, threads_per_worker=16) as client:\n",
    "    loaded = indices.compute()\n",
    "\n",
    "loaded"
   ]
  },
  {
   "cell_type": "code",
   "execution_count": null,
   "metadata": {},
   "outputs": [],
   "source": [
    "# Resample to monthly...\n",
    "monthly = loaded.evi2.resample(time=\"ME\").max()"
   ]
  },
  {
   "cell_type": "code",
   "execution_count": null,
   "metadata": {},
   "outputs": [],
   "source": [
    "# Try gap filling with MODIS\n",
    "mspc = \"https://planetarycomputer.microsoft.com/api/stac/v1/\"\n",
    "modis = \"modis-09Q1-061\"\n",
    "mspc_client = Client.open(mspc)\n",
    "\n",
    "modis_items = mspc_client.search(\n",
    "    collections=[modis],\n",
    "    intersects=geobox.geographic_extent,\n",
    "    datetime=f\"{year-1}-11/{year+1}-01\",\n",
    ").item_collection()\n",
    "\n",
    "modis_data = load(\n",
    "    modis_items,\n",
    "    like=monthly,\n",
    "    measurements=[\"red\", \"nir08\", \"sur_refl_qc_250m\"],\n",
    "    chunks={\"x\": 2500, \"y\": 2500},\n",
    "    groupby=\"solar_day\",\n",
    "    patch_url=sign_url,\n",
    ")\n",
    "\n",
    "modis_data = modis_data.rename_vars({\"nir08\": \"nir\"})\n",
    "\n",
    "# Bits 4-7 need to be all zeros\n",
    "mask = modis_data.sur_refl_qc_250m.where(\n",
    "    (modis_data.sur_refl_qc_250m & 0b11110000) == 0\n",
    ")\n",
    "\n",
    "modis_data = modis_data.where(mask)\n",
    "modis_data.drop_vars(\"sur_refl_qc_250m\")\n",
    "\n",
    "# Scale by 0.0001 and clip to 0-1\n",
    "modis_data = (modis_data * 0.0001).clip(0, 1)\n",
    "\n",
    "# Create the indices\n",
    "modis_data = create_land_productivity_indices(modis_data, drop=False)\n",
    "\n",
    "modis_data"
   ]
  },
  {
   "cell_type": "code",
   "execution_count": null,
   "metadata": {},
   "outputs": [],
   "source": [
    "with DaskClient(n_workers=2, threads_per_worker=16):\n",
    "    monthly_modis = modis_data.evi2.resample(time=\"ME\").max().compute()\n",
    "\n",
    "monthly_modis.plot.imshow(col=\"time\", col_wrap=2, robust=True, cmap=\"viridis\", size=6)"
   ]
  },
  {
   "cell_type": "code",
   "execution_count": null,
   "metadata": {},
   "outputs": [],
   "source": [
    "monthly.plot.imshow(col=\"time\", col_wrap=2, robust=True, cmap=\"viridis\", size=6)"
   ]
  },
  {
   "cell_type": "code",
   "execution_count": null,
   "metadata": {},
   "outputs": [],
   "source": [
    "# Fill landsat gaps with modis data\n",
    "filled = monthly.combine_first(monthly_modis)\n",
    "\n",
    "filled.plot.imshow(col=\"time\", col_wrap=2, robust=True, cmap=\"viridis\", size=6)"
   ]
  },
  {
   "cell_type": "code",
   "execution_count": null,
   "metadata": {},
   "outputs": [],
   "source": [
    "# and interpolate missing values. This creates a more robust timeseries\n",
    "monthly_filled = monthly.interpolate_na(\"time\", method=\"linear\").bfill(\"time\").ffill(\"time\")"
   ]
  },
  {
   "cell_type": "code",
   "execution_count": null,
   "metadata": {},
   "outputs": [],
   "source": [
    "monthly_filled.plot.imshow(col=\"time\", col_wrap=2, robust=True, cmap=\"viridis\", size=6)"
   ]
  },
  {
   "cell_type": "code",
   "execution_count": null,
   "metadata": {},
   "outputs": [],
   "source": [
    "# Create a spatial median\n",
    "summary = monthly_filled.median([\"longitude\", \"latitude\"])\n",
    "\n",
    "# Plot the time series\n",
    "summary.plot(ylim=(0, 0.01))"
   ]
  },
  {
   "cell_type": "code",
   "execution_count": null,
   "metadata": {},
   "outputs": [],
   "source": [
    "# Select just the year we are interested in and integrate over time\n",
    "integral_monthly = monthly_filled.sel(time=f\"{year}\").integrate(\"time\", datetime_unit=\"D\")\n",
    "\n",
    "# Plot the integral\n",
    "integral_monthly.plot(robust=True, cmap=\"viridis\", size=6, vmin=0, vmax=300)"
   ]
  },
  {
   "cell_type": "code",
   "execution_count": null,
   "metadata": {},
   "outputs": [],
   "source": [
    "from ipyleaflet import basemaps\n",
    "\n",
    "integral_monthly.odc.explore(tiles=basemaps.Esri.WorldImagery)"
   ]
  }
 ],
 "metadata": {
  "kernelspec": {
   "display_name": "Python 3",
   "language": "python",
   "name": "python3"
  },
  "language_info": {
   "codemirror_mode": {
    "name": "ipython",
    "version": 3
   },
   "file_extension": ".py",
   "mimetype": "text/x-python",
   "name": "python",
   "nbconvert_exporter": "python",
   "pygments_lexer": "ipython3",
   "version": "3.11.10"
  }
 },
 "nbformat": 4,
 "nbformat_minor": 2
}

{
 "cells": [
  {
   "cell_type": "code",
   "execution_count": 1,
   "metadata": {},
   "outputs": [],
   "source": [
    "from pystac_client import Client\n",
    "from odc.stac import load, configure_s3_access\n",
    "from dask.distributed import Client as DaskClient\n",
    "\n",
    "from ldn.utils import (\n",
    "    WGS84GRID30,\n",
    "    USGSCATALOG,\n",
    "    USGSLANDSAT,\n",
    "    http_to_s3_url,\n",
    "    mask_usgs_landsat,\n",
    "    create_land_productivity_indices,\n",
    ")"
   ]
  },
  {
   "cell_type": "code",
   "execution_count": 2,
   "metadata": {},
   "outputs": [],
   "source": [
    "# Configure S3 access, which requires AWS credentials for loading USGS Landsat data\n",
    "configure_s3_access(cloud_defaults=True, requester_pays=True)\n",
    "\n",
    "client = Client.open(USGSCATALOG)"
   ]
  },
  {
   "cell_type": "code",
   "execution_count": 3,
   "metadata": {},
   "outputs": [],
   "source": [
    "# tile = (238, 47)  # Fiji, over Suva\n",
    "# tile = (79, 69)   # Martinique and St Lucia\n",
    "tile = (60, 71)   # Belmopan in Belize\n",
    "# tile = (239, 48)  # Southern Vanua Levu, Fiji\n",
    "\n",
    "# Get the tile\n",
    "geobox = WGS84GRID30.tile_geobox(tile)\n",
    "\n",
    "# Zoom out (decimate) the geobox\n",
    "geobox = geobox.zoom_out(10)"
   ]
  },
  {
   "cell_type": "code",
   "execution_count": null,
   "metadata": {},
   "outputs": [],
   "source": [
    "items = client.search(\n",
    "    collections=[USGSLANDSAT],\n",
    "    intersects=geobox.geographic_extent,\n",
    "    datetime=\"2022-11/2024-01\",\n",
    "    query={\"landsat:collection_category\": {\"in\": [\"T1\"]}},\n",
    ").item_collection()\n",
    "\n",
    "print(f\"Found {len(items)} items\")"
   ]
  },
  {
   "cell_type": "code",
   "execution_count": null,
   "metadata": {},
   "outputs": [],
   "source": [
    "data = load(\n",
    "    items,\n",
    "    geobox=geobox,\n",
    "    measurements=[\"red\", \"nir08\", \"qa_pixel\"],\n",
    "    chunks={\"x\": 2048, \"y\": 2048},\n",
    "    groupby=\"solar_day\",\n",
    "    dtype=\"uint16\",\n",
    "    nodata=0,\n",
    "    resampling={\"qa_pixel\": \"nearest\"},\n",
    "    patch_url=http_to_s3_url,\n",
    ")\n",
    "\n",
    "data = data.rename_vars({\"nir08\": \"nir\"})\n",
    "\n",
    "data"
   ]
  },
  {
   "cell_type": "code",
   "execution_count": null,
   "metadata": {},
   "outputs": [],
   "source": [
    "# Create cloud mask, scale values to 0-1 and set nodata to NaN\n",
    "masked = mask_usgs_landsat(data)\n",
    "\n",
    "# Create the NDVI, MSAVI and EVI2\n",
    "indices = create_land_productivity_indices(masked, drop=False)\n",
    "\n",
    "indices"
   ]
  },
  {
   "cell_type": "code",
   "execution_count": null,
   "metadata": {},
   "outputs": [],
   "source": [
    "with DaskClient(n_workers=1, threads_per_worker=16) as client:\n",
    "    loaded = indices.compute()\n",
    "\n",
    "loaded"
   ]
  },
  {
   "cell_type": "code",
   "execution_count": null,
   "metadata": {},
   "outputs": [],
   "source": [
    "# Resample to monthly and interpolate missing values. This creates a more robust timeseries\n",
    "monthly = loaded.evi2.resample(time=\"ME\").max()\n",
    "monthly = monthly.interpolate_na(\"time\", method=\"linear\").bfill(\"time\").ffill(\"time\")\n",
    "\n",
    "monthly.plot.imshow(col=\"time\", col_wrap=4, robust=True, cmap=\"viridis\")"
   ]
  },
  {
   "cell_type": "code",
   "execution_count": null,
   "metadata": {},
   "outputs": [],
   "source": [
    "# Create a spatial median\n",
    "summary = monthly.median([\"longitude\", \"latitude\"])\n",
    "\n",
    "# Plot the time series\n",
    "summary.plot(ylim=(0, 1))"
   ]
  },
  {
   "cell_type": "code",
   "execution_count": null,
   "metadata": {},
   "outputs": [],
   "source": [
    "# Create a spatial median\n",
    "summary = monthly.median([\"longitude\", \"latitude\"])\n",
    "\n",
    "# Plot the time series\n",
    "summary.plot(ylim=(0, 1))"
   ]
  },
  {
   "cell_type": "code",
   "execution_count": null,
   "metadata": {},
   "outputs": [],
   "source": [
    "# Select just the year we are interested in and integrate over time\n",
    "integral_monthly = monthly.sel(time=\"2023\").integrate(\"time\", datetime_unit=\"D\")\n",
    "\n",
    "# Plot the integral\n",
    "integral_monthly.plot(robust=True, cmap=\"Greens\", size=6, vmin=0, vmax=300)"
   ]
  },
  {
   "cell_type": "code",
   "execution_count": null,
   "metadata": {},
   "outputs": [],
   "source": [
    "from ipyleaflet import basemaps\n",
    "\n",
    "integral_monthly.odc.explore(tiles=basemaps.Esri.WorldImagery)"
   ]
  }
 ],
 "metadata": {
  "kernelspec": {
   "display_name": "Python 3",
   "language": "python",
   "name": "python3"
  },
  "language_info": {
   "codemirror_mode": {
    "name": "ipython",
    "version": 3
   },
   "file_extension": ".py",
   "mimetype": "text/x-python",
   "name": "python",
   "nbconvert_exporter": "python",
   "pygments_lexer": "ipython3",
   "version": "3.11.9"
  }
 },
 "nbformat": 4,
 "nbformat_minor": 2
}

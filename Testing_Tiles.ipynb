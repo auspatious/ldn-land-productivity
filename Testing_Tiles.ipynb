{
 "cells": [
  {
   "cell_type": "code",
   "execution_count": 27,
   "metadata": {},
   "outputs": [],
   "source": [
    "import geopandas as gpd\n",
    "from odc.geo import Geometry, XY\n",
    "\n",
    "from utils import WGS84GRID30"
   ]
  },
  {
   "cell_type": "code",
   "execution_count": null,
   "metadata": {},
   "outputs": [],
   "source": [
    "from odc.geo.gridspec import GridSpec\n",
    "\n",
    "WGS84GRID30 = GridSpec(\"EPSG:4326\", tile_shape=(5000, 5000), resolution=0.0003, origin=XY(-180, -90))\n",
    "\n",
    "# Load our extents\n",
    "gdf = gpd.read_file(\"aois.geojson\")\n",
    "\n",
    "# 0 is Fiji, 1 is Caribbean and 2 is Belize\n",
    "fiji = list(WGS84GRID30.tiles_from_geopolygon(Geometry(gdf.geometry[0], crs=\"epsg:4326\")))\n",
    "carb = list(WGS84GRID30.tiles_from_geopolygon(Geometry(gdf.geometry[1], crs=\"epsg:4326\")))\n",
    "belz = list(WGS84GRID30.tiles_from_geopolygon(Geometry(gdf.geometry[2], crs=\"epsg:4326\")))\n",
    "\n",
    "# This is all the tiles\n",
    "tiles = fiji + carb + belz\n",
    "\n",
    "for i in list(range(0, len(tiles), 5)):\n",
    "    print(tiles[i][0])\n",
    "\n",
    "tiles[0]"
   ]
  },
  {
   "cell_type": "code",
   "execution_count": null,
   "metadata": {},
   "outputs": [],
   "source": [
    "list(range(0, len(tiles), 5))"
   ]
  },
  {
   "cell_type": "code",
   "execution_count": null,
   "metadata": {},
   "outputs": [],
   "source": [
    "# Load our extents\n",
    "gdf = gpd.read_file(\"aois.geojson\")\n",
    "\n",
    "# 0 is Fiji, 1 is Caribbean and 2 is Belize\n",
    "fiji = list(WGS84GRID30.tiles_from_geopolygon(Geometry(gdf.geometry[0], crs=\"epsg:4326\")))\n",
    "carb = list(WGS84GRID30.tiles_from_geopolygon(Geometry(gdf.geometry[1], crs=\"epsg:4326\")))\n",
    "belz = list(WGS84GRID30.tiles_from_geopolygon(Geometry(gdf.geometry[2], crs=\"epsg:4326\")))\n",
    "\n",
    "# This is all the tiles\n",
    "tiles = fiji + carb + belz\n",
    "\n",
    "print(len(tiles))"
   ]
  },
  {
   "cell_type": "code",
   "execution_count": null,
   "metadata": {},
   "outputs": [],
   "source": [
    "belz"
   ]
  }
 ],
 "metadata": {
  "kernelspec": {
   "display_name": "Python 3",
   "language": "python",
   "name": "python3"
  },
  "language_info": {
   "codemirror_mode": {
    "name": "ipython",
    "version": 3
   },
   "file_extension": ".py",
   "mimetype": "text/x-python",
   "name": "python",
   "nbconvert_exporter": "python",
   "pygments_lexer": "ipython3",
   "version": "3.10.12"
  }
 },
 "nbformat": 4,
 "nbformat_minor": 2
}

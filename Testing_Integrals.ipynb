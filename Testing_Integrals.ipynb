{
 "cells": [
  {
   "cell_type": "code",
   "execution_count": 14,
   "metadata": {},
   "outputs": [],
   "source": [
    "from pystac_client import Client\n",
    "from odc.stac import load, configure_s3_access\n",
    "from odc.geo import Geometry, BoundingBox\n",
    "from dask.distributed import Client as DaskClient\n",
    "\n",
    "import numpy as np\n",
    "import geopandas as gpd\n",
    "import folium\n",
    "import xarray as xr\n",
    "\n",
    "from utils import WGS84GRID30, USGSCATALOG, USGSLANDSAT, http_to_s3_url"
   ]
  },
  {
   "cell_type": "code",
   "execution_count": 2,
   "metadata": {},
   "outputs": [],
   "source": [
    "# Configure S3 access, which requires AWS credentials for loading USGS Landsat data\n",
    "configure_s3_access(cloud_defaults=True, requester_pays=True)\n",
    "\n",
    "client = Client.open(USGSCATALOG)"
   ]
  },
  {
   "cell_type": "code",
   "execution_count": 37,
   "metadata": {},
   "outputs": [
    {
     "data": {
      "text/html": [
       "<div style=\"width:100%;\"><div style=\"position:relative;width:100%;height:0;padding-bottom:60%;\"><span style=\"color:#565656\">Make this Notebook Trusted to load map: File -> Trust Notebook</span><iframe srcdoc=\"&lt;!DOCTYPE html&gt;\n",
       "&lt;html&gt;\n",
       "&lt;head&gt;\n",
       "    \n",
       "    &lt;meta http-equiv=&quot;content-type&quot; content=&quot;text/html; charset=UTF-8&quot; /&gt;\n",
       "    \n",
       "        &lt;script&gt;\n",
       "            L_NO_TOUCH = false;\n",
       "            L_DISABLE_3D = false;\n",
       "        &lt;/script&gt;\n",
       "    \n",
       "    &lt;style&gt;html, body {width: 100%;height: 100%;margin: 0;padding: 0;}&lt;/style&gt;\n",
       "    &lt;style&gt;#map {position:absolute;top:0;bottom:0;right:0;left:0;}&lt;/style&gt;\n",
       "    &lt;script src=&quot;https://cdn.jsdelivr.net/npm/leaflet@1.9.3/dist/leaflet.js&quot;&gt;&lt;/script&gt;\n",
       "    &lt;script src=&quot;https://code.jquery.com/jquery-3.7.1.min.js&quot;&gt;&lt;/script&gt;\n",
       "    &lt;script src=&quot;https://cdn.jsdelivr.net/npm/bootstrap@5.2.2/dist/js/bootstrap.bundle.min.js&quot;&gt;&lt;/script&gt;\n",
       "    &lt;script src=&quot;https://cdnjs.cloudflare.com/ajax/libs/Leaflet.awesome-markers/2.0.2/leaflet.awesome-markers.js&quot;&gt;&lt;/script&gt;\n",
       "    &lt;link rel=&quot;stylesheet&quot; href=&quot;https://cdn.jsdelivr.net/npm/leaflet@1.9.3/dist/leaflet.css&quot;/&gt;\n",
       "    &lt;link rel=&quot;stylesheet&quot; href=&quot;https://cdn.jsdelivr.net/npm/bootstrap@5.2.2/dist/css/bootstrap.min.css&quot;/&gt;\n",
       "    &lt;link rel=&quot;stylesheet&quot; href=&quot;https://netdna.bootstrapcdn.com/bootstrap/3.0.0/css/bootstrap-glyphicons.css&quot;/&gt;\n",
       "    &lt;link rel=&quot;stylesheet&quot; href=&quot;https://cdn.jsdelivr.net/npm/@fortawesome/fontawesome-free@6.2.0/css/all.min.css&quot;/&gt;\n",
       "    &lt;link rel=&quot;stylesheet&quot; href=&quot;https://cdnjs.cloudflare.com/ajax/libs/Leaflet.awesome-markers/2.0.2/leaflet.awesome-markers.css&quot;/&gt;\n",
       "    &lt;link rel=&quot;stylesheet&quot; href=&quot;https://cdn.jsdelivr.net/gh/python-visualization/folium/folium/templates/leaflet.awesome.rotate.min.css&quot;/&gt;\n",
       "    \n",
       "            &lt;meta name=&quot;viewport&quot; content=&quot;width=device-width,\n",
       "                initial-scale=1.0, maximum-scale=1.0, user-scalable=no&quot; /&gt;\n",
       "            &lt;style&gt;\n",
       "                #map_1cce5b91ffcfd16fcdff1b64e0456a41 {\n",
       "                    position: relative;\n",
       "                    width: 100.0%;\n",
       "                    height: 100.0%;\n",
       "                    left: 0.0%;\n",
       "                    top: 0.0%;\n",
       "                }\n",
       "                .leaflet-container { font-size: 1rem; }\n",
       "            &lt;/style&gt;\n",
       "        \n",
       "&lt;/head&gt;\n",
       "&lt;body&gt;\n",
       "    \n",
       "    \n",
       "            &lt;div class=&quot;folium-map&quot; id=&quot;map_1cce5b91ffcfd16fcdff1b64e0456a41&quot; &gt;&lt;/div&gt;\n",
       "        \n",
       "&lt;/body&gt;\n",
       "&lt;script&gt;\n",
       "    \n",
       "    \n",
       "            var map_1cce5b91ffcfd16fcdff1b64e0456a41 = L.map(\n",
       "                &quot;map_1cce5b91ffcfd16fcdff1b64e0456a41&quot;,\n",
       "                {\n",
       "                    center: [0.0, 0.0],\n",
       "                    crs: L.CRS.EPSG3857,\n",
       "                    zoom: 1,\n",
       "                    zoomControl: true,\n",
       "                    preferCanvas: false,\n",
       "                }\n",
       "            );\n",
       "\n",
       "            \n",
       "\n",
       "        \n",
       "    \n",
       "            var tile_layer_eeacb1d65df8e8467285ba0af3215e5b = L.tileLayer(\n",
       "                &quot;https://tile.openstreetmap.org/{z}/{x}/{y}.png&quot;,\n",
       "                {&quot;attribution&quot;: &quot;\\u0026copy; \\u003ca href=\\&quot;https://www.openstreetmap.org/copyright\\&quot;\\u003eOpenStreetMap\\u003c/a\\u003e contributors&quot;, &quot;detectRetina&quot;: false, &quot;maxNativeZoom&quot;: 19, &quot;maxZoom&quot;: 19, &quot;minZoom&quot;: 0, &quot;noWrap&quot;: false, &quot;opacity&quot;: 1, &quot;subdomains&quot;: &quot;abc&quot;, &quot;tms&quot;: false}\n",
       "            );\n",
       "        \n",
       "    \n",
       "            tile_layer_eeacb1d65df8e8467285ba0af3215e5b.addTo(map_1cce5b91ffcfd16fcdff1b64e0456a41);\n",
       "        \n",
       "    \n",
       "\n",
       "        function geo_json_36b55c06466f860b959cb9de2c7508b1_onEachFeature(feature, layer) {\n",
       "            layer.on({\n",
       "            });\n",
       "        };\n",
       "        var geo_json_36b55c06466f860b959cb9de2c7508b1 = L.geoJson(null, {\n",
       "                onEachFeature: geo_json_36b55c06466f860b959cb9de2c7508b1_onEachFeature,\n",
       "            \n",
       "        });\n",
       "\n",
       "        function geo_json_36b55c06466f860b959cb9de2c7508b1_add (data) {\n",
       "            geo_json_36b55c06466f860b959cb9de2c7508b1\n",
       "                .addData(data);\n",
       "        }\n",
       "            geo_json_36b55c06466f860b959cb9de2c7508b1_add({&quot;geometry&quot;: {&quot;coordinates&quot;: [[[178.49999999999997, -17.999999999999996], [178.49999999999997, -19.199999999999996], [179.69999999999996, -19.199999999999996], [179.69999999999996, -17.999999999999996], [178.49999999999997, -17.999999999999996]]], &quot;type&quot;: &quot;Polygon&quot;}, &quot;properties&quot;: {}, &quot;type&quot;: &quot;Feature&quot;});\n",
       "        geo_json_36b55c06466f860b959cb9de2c7508b1.setStyle(function(feature) {return feature.properties.style;});\n",
       "\n",
       "        \n",
       "    \n",
       "            geo_json_36b55c06466f860b959cb9de2c7508b1.addTo(map_1cce5b91ffcfd16fcdff1b64e0456a41);\n",
       "        \n",
       "    \n",
       "            map_1cce5b91ffcfd16fcdff1b64e0456a41.fitBounds(\n",
       "                [[-19.199999999999996, 178.49999999999997], [-17.999999999999996, 179.69999999999996]],\n",
       "                {}\n",
       "            );\n",
       "        \n",
       "&lt;/script&gt;\n",
       "&lt;/html&gt;\" style=\"position:absolute;width:100%;height:100%;left:0;top:0;border:none !important;\" allowfullscreen webkitallowfullscreen mozallowfullscreen></iframe></div></div>"
      ],
      "text/plain": [
       "<folium.folium.Map at 0x162c45c10>"
      ]
     },
     "execution_count": 37,
     "metadata": {},
     "output_type": "execute_result"
    }
   ],
   "source": [
    "# Load our extents\n",
    "gdf = gpd.read_file(\"aois.geojson\")\n",
    "\n",
    "# 0 is Fiji, 1 is Caribbean and 2 is Belize\n",
    "geom = Geometry(gdf.geometry[0], crs=\"epsg:4326\")\n",
    "\n",
    "# This is all the tiles\n",
    "tiles = WGS84GRID30.tiles_from_geopolygon(geom)\n",
    "\n",
    "# This is northern Viti Levu in Fiji\n",
    "tile = WGS84GRID30.tile_geobox((119, -13))\n",
    "tile\n",
    "\n",
    "# Subset the tile, to load a very small area\n",
    "box = BoundingBox(177.47563, 177.54938, -17.74963,  -17.68436, crs=\"epsg:4326\")\n",
    "tile = tile.crop([4000, 4000]).extent.explore()\n",
    "tile"
   ]
  },
  {
   "cell_type": "code",
   "execution_count": null,
   "metadata": {},
   "outputs": [],
   "source": [
    "items = client.search(\n",
    "    collections=[USGSLANDSAT],\n",
    "    intersects=tile.geographic_extent,\n",
    "    datetime=\"2024\",\n",
    "    query={\"landsat:collection_category\": {\"in\": [\"T1\"]}},\n",
    ").item_collection()\n",
    "\n",
    "print(f\"Found {len(items)} items\")\n"
   ]
  },
  {
   "cell_type": "code",
   "execution_count": null,
   "metadata": {},
   "outputs": [],
   "source": [
    "data = load(\n",
    "    items,\n",
    "    geobox=tile,\n",
    "    measurements=[\"red\", \"green\", \"blue\", \"nir08\", \"qa_pixel\"],\n",
    "    chunks={\"x\": 2048, \"y\": 2048},\n",
    "    groupby=\"solar_day\",\n",
    "    dtype=\"uint16\",\n",
    "    nodata=0,\n",
    "    resampling={\"qa_pixel\": \"nearest\"},\n",
    "    patch_url=http_to_s3_url,\n",
    ")\n",
    "\n",
    "data = data.rename_vars({\"nir08\": \"nir\"})\n",
    "\n",
    "data"
   ]
  },
  {
   "cell_type": "code",
   "execution_count": null,
   "metadata": {},
   "outputs": [],
   "source": [
    "# Create cloud mask, scale values to 0-1 and set nodata to NaN\n",
    "\n",
    "# Bits 3 and 4 are cloud shadow and cloud, respectively. Bit 0 is nodata\n",
    "bitflags = 0b00011000\n",
    "\n",
    "# Bitwise AND to select any pixel that is cloud shadow or cloud or nodata\n",
    "cloud_mask = (data.qa_pixel & bitflags) != 0\n",
    "# Note that it might be a good idea to dilate the mask here to catch any pixels that are adjacent to clouds\n",
    "\n",
    "nodata_mask = data.qa_pixel == 0\n",
    "\n",
    "# Combined the masks\n",
    "mask = cloud_mask | nodata_mask\n",
    "\n",
    "# Mask the original data\n",
    "masked = data.where(~mask, other=np.nan).drop_vars(\"qa_pixel\")\n",
    "\n",
    "# Scale the data to 0-1\n",
    "scaled = (masked.where(masked != 0) * 0.0000275 + -0.2).clip(0, 1)\n",
    "\n",
    "scaled"
   ]
  },
  {
   "cell_type": "code",
   "execution_count": null,
   "metadata": {},
   "outputs": [],
   "source": [
    "time = 0\n",
    "data.isel(time=time).odc.explore(vmin=7000, vmax=8000)"
   ]
  },
  {
   "cell_type": "code",
   "execution_count": null,
   "metadata": {},
   "outputs": [],
   "source": [
    "scaled.isel(time=time).odc.explore(vmin=0, vmax=0.2)"
   ]
  },
  {
   "cell_type": "code",
   "execution_count": null,
   "metadata": {},
   "outputs": [],
   "source": [
    "# Create the indices\n",
    "\n",
    "# NDVI\n",
    "scaled[\"ndvi\"] = (scaled[\"nir\"] - scaled[\"red\"]) / (scaled[\"nir\"] + scaled[\"red\"])\n",
    "\n",
    "# MSAVI\n",
    "scaled[\"msavi\"] = 0.5 * (\n",
    "    (2 * scaled[\"nir\"] + 1) - np.sqrt((2 * scaled[\"nir\"] + 1) ** 2 - 8 * (scaled[\"nir\"] - scaled[\"red\"]))\n",
    ")\n",
    "\n",
    "# EVI2\n",
    "scaled[\"evi2\"] = 2.5 * (scaled[\"nir\"] - scaled[\"red\"]) / (scaled[\"nir\"] + 2.4 * scaled[\"red\"] + 1)\n",
    "\n",
    "scaled"
   ]
  },
  {
   "cell_type": "code",
   "execution_count": 66,
   "metadata": {},
   "outputs": [],
   "source": [
    "# Create a temporal maximum, mean and median for the three indices\n",
    "results = []\n",
    "\n",
    "for index in [\"ndvi\", \"msavi\", \"evi2\"]:\n",
    "    maximum = scaled[index].max(\"time\")\n",
    "    mean = scaled[index].mean(\"time\")\n",
    "    median = scaled[index].median(\"time\")\n",
    "\n",
    "    # Rename the variables\n",
    "    maximum = maximum.rename(f\"{index}_max\")\n",
    "    mean = mean.rename(f\"{index}_mean\")\n",
    "    median = median.rename(f\"{index}_median\")\n",
    "\n",
    "    results.extend([maximum, mean, median])\n",
    "\n",
    "# Combine the results into a single dataset\n",
    "indices = xr.merge(results)"
   ]
  },
  {
   "cell_type": "code",
   "execution_count": null,
   "metadata": {},
   "outputs": [],
   "source": [
    "# Set up a dask local cluster and compute\n",
    "with DaskClient(n_workers=1, threads_per_worker=16) as client:\n",
    "    averages = indices.compute()\n",
    "\n",
    "averages"
   ]
  },
  {
   "cell_type": "code",
   "execution_count": null,
   "metadata": {},
   "outputs": [],
   "source": [
    "maximum.ndvi.plot.imshow(cmap=\"RdYlGn\")"
   ]
  },
  {
   "cell_type": "code",
   "execution_count": null,
   "metadata": {},
   "outputs": [],
   "source": [
    "center = tile.geographic_extent.centroid.coords[0][::-1]\n",
    "\n",
    "m = folium.Map(location=center, zoom_start=8)\n",
    "\n",
    "for index in [\"ndvi\", \"msavi\", \"evi2\"]:\n",
    "    opts = {\n",
    "        \"vmin\": -1,\n",
    "        \"vmax\": 1,\n",
    "    }\n",
    "    if index == \"ndvi\":\n",
    "        opts[\"cmap\"] = \"RdYlGn\"\n",
    "    else:\n",
    "        opts[\"cmap\"] = \"viridis\"\n",
    "\n",
    "    averages[f\"{index}_max\"].odc.add_to(m, name=f\"{index.upper()} Max\", **opts)\n",
    "    averages[f\"{index}_mean\"].odc.add_to(m, name=f\"{index.upper()} Mean\", **opts)\n",
    "    averages[f\"{index}_median\"].odc.add_to(m, name=f\"{index.upper()} Median\", **opts)\n",
    "\n",
    "folium.LayerControl().add_to(m)\n",
    "\n",
    "m.save(\"indices.html\")\n",
    "\n",
    "m"
   ]
  },
  {
   "cell_type": "code",
   "execution_count": null,
   "metadata": {},
   "outputs": [],
   "source": [
    "tile.geographic_extent.centroid.coords"
   ]
  }
 ],
 "metadata": {
  "kernelspec": {
   "display_name": "Python 3",
   "language": "python",
   "name": "python3"
  },
  "language_info": {
   "codemirror_mode": {
    "name": "ipython",
    "version": 3
   },
   "file_extension": ".py",
   "mimetype": "text/x-python",
   "name": "python",
   "nbconvert_exporter": "python",
   "pygments_lexer": "ipython3",
   "version": "3.11.9"
  }
 },
 "nbformat": 4,
 "nbformat_minor": 2
}
